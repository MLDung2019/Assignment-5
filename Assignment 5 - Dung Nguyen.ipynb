{
 "cells": [
  {
   "cell_type": "markdown",
   "metadata": {},
   "source": [
    "Porto Seguro's Safe Driver Prediction\n",
    "===="
   ]
  },
  {
   "cell_type": "markdown",
   "metadata": {},
   "source": [
    "## Introduction\n",
    "[This competition](https://www.kaggle.com/c/porto-seguro-safe-driver-prediction/data) is hosted by the third largest insurance company in Brazil: Porto Seguro with the task of predicting the probability that a driver will initiate an insurance claim in the next year.\n",
    "\n",
    "In the train data, features that belong to similar groupings are tagged as such in the feature names (e.g., ind, reg, car, calc). In addition, feature names include the postfix bin to indicate binary features and cat to indicate categorical features. Features without these designations are either continuous or ordinal. **Values of -1 indicate that the feature was missing** from the observation. The target columns signifies whether or not a claim was filed for that policy holder\n",
    "\n",
    "train.csv contains the training data, where each row corresponds to a policy holder, and the target columns signifies that a claim was filed.\n"
   ]
  },
  {
   "cell_type": "code",
   "execution_count": 36,
   "metadata": {},
   "outputs": [],
   "source": [
    "# Import libraries\n",
    "# Your code here\n",
    "import pandas as pd\n",
    "import numpy as np\n",
    "import matplotlib.pyplot as plt\n",
    "import seaborn as sns\n",
    "import warnings\n",
    "warnings.filterwarnings('ignore')\n"
   ]
  },
  {
   "cell_type": "code",
   "execution_count": 4,
   "metadata": {},
   "outputs": [
    {
     "data": {
      "text/html": [
       "<div>\n",
       "<style scoped>\n",
       "    .dataframe tbody tr th:only-of-type {\n",
       "        vertical-align: middle;\n",
       "    }\n",
       "\n",
       "    .dataframe tbody tr th {\n",
       "        vertical-align: top;\n",
       "    }\n",
       "\n",
       "    .dataframe thead th {\n",
       "        text-align: right;\n",
       "    }\n",
       "</style>\n",
       "<table border=\"1\" class=\"dataframe\">\n",
       "  <thead>\n",
       "    <tr style=\"text-align: right;\">\n",
       "      <th></th>\n",
       "      <th>id</th>\n",
       "      <th>target</th>\n",
       "      <th>ps_ind_01</th>\n",
       "      <th>ps_ind_02_cat</th>\n",
       "      <th>ps_ind_03</th>\n",
       "      <th>ps_ind_04_cat</th>\n",
       "      <th>ps_ind_05_cat</th>\n",
       "      <th>ps_ind_06_bin</th>\n",
       "      <th>ps_ind_07_bin</th>\n",
       "      <th>ps_ind_08_bin</th>\n",
       "      <th>...</th>\n",
       "      <th>ps_calc_11</th>\n",
       "      <th>ps_calc_12</th>\n",
       "      <th>ps_calc_13</th>\n",
       "      <th>ps_calc_14</th>\n",
       "      <th>ps_calc_15_bin</th>\n",
       "      <th>ps_calc_16_bin</th>\n",
       "      <th>ps_calc_17_bin</th>\n",
       "      <th>ps_calc_18_bin</th>\n",
       "      <th>ps_calc_19_bin</th>\n",
       "      <th>ps_calc_20_bin</th>\n",
       "    </tr>\n",
       "  </thead>\n",
       "  <tbody>\n",
       "    <tr>\n",
       "      <th>0</th>\n",
       "      <td>7</td>\n",
       "      <td>0</td>\n",
       "      <td>2</td>\n",
       "      <td>2</td>\n",
       "      <td>5</td>\n",
       "      <td>1</td>\n",
       "      <td>0</td>\n",
       "      <td>0</td>\n",
       "      <td>1</td>\n",
       "      <td>0</td>\n",
       "      <td>...</td>\n",
       "      <td>9</td>\n",
       "      <td>1</td>\n",
       "      <td>5</td>\n",
       "      <td>8</td>\n",
       "      <td>0</td>\n",
       "      <td>1</td>\n",
       "      <td>1</td>\n",
       "      <td>0</td>\n",
       "      <td>0</td>\n",
       "      <td>1</td>\n",
       "    </tr>\n",
       "    <tr>\n",
       "      <th>1</th>\n",
       "      <td>9</td>\n",
       "      <td>0</td>\n",
       "      <td>1</td>\n",
       "      <td>1</td>\n",
       "      <td>7</td>\n",
       "      <td>0</td>\n",
       "      <td>0</td>\n",
       "      <td>0</td>\n",
       "      <td>0</td>\n",
       "      <td>1</td>\n",
       "      <td>...</td>\n",
       "      <td>3</td>\n",
       "      <td>1</td>\n",
       "      <td>1</td>\n",
       "      <td>9</td>\n",
       "      <td>0</td>\n",
       "      <td>1</td>\n",
       "      <td>1</td>\n",
       "      <td>0</td>\n",
       "      <td>1</td>\n",
       "      <td>0</td>\n",
       "    </tr>\n",
       "    <tr>\n",
       "      <th>2</th>\n",
       "      <td>13</td>\n",
       "      <td>0</td>\n",
       "      <td>5</td>\n",
       "      <td>4</td>\n",
       "      <td>9</td>\n",
       "      <td>1</td>\n",
       "      <td>0</td>\n",
       "      <td>0</td>\n",
       "      <td>0</td>\n",
       "      <td>1</td>\n",
       "      <td>...</td>\n",
       "      <td>4</td>\n",
       "      <td>2</td>\n",
       "      <td>7</td>\n",
       "      <td>7</td>\n",
       "      <td>0</td>\n",
       "      <td>1</td>\n",
       "      <td>1</td>\n",
       "      <td>0</td>\n",
       "      <td>1</td>\n",
       "      <td>0</td>\n",
       "    </tr>\n",
       "    <tr>\n",
       "      <th>3</th>\n",
       "      <td>16</td>\n",
       "      <td>0</td>\n",
       "      <td>0</td>\n",
       "      <td>1</td>\n",
       "      <td>2</td>\n",
       "      <td>0</td>\n",
       "      <td>0</td>\n",
       "      <td>1</td>\n",
       "      <td>0</td>\n",
       "      <td>0</td>\n",
       "      <td>...</td>\n",
       "      <td>2</td>\n",
       "      <td>2</td>\n",
       "      <td>4</td>\n",
       "      <td>9</td>\n",
       "      <td>0</td>\n",
       "      <td>0</td>\n",
       "      <td>0</td>\n",
       "      <td>0</td>\n",
       "      <td>0</td>\n",
       "      <td>0</td>\n",
       "    </tr>\n",
       "    <tr>\n",
       "      <th>4</th>\n",
       "      <td>17</td>\n",
       "      <td>0</td>\n",
       "      <td>0</td>\n",
       "      <td>2</td>\n",
       "      <td>0</td>\n",
       "      <td>1</td>\n",
       "      <td>0</td>\n",
       "      <td>1</td>\n",
       "      <td>0</td>\n",
       "      <td>0</td>\n",
       "      <td>...</td>\n",
       "      <td>3</td>\n",
       "      <td>1</td>\n",
       "      <td>1</td>\n",
       "      <td>3</td>\n",
       "      <td>0</td>\n",
       "      <td>0</td>\n",
       "      <td>0</td>\n",
       "      <td>1</td>\n",
       "      <td>1</td>\n",
       "      <td>0</td>\n",
       "    </tr>\n",
       "  </tbody>\n",
       "</table>\n",
       "<p>5 rows × 59 columns</p>\n",
       "</div>"
      ],
      "text/plain": [
       "   id  target  ps_ind_01  ps_ind_02_cat  ps_ind_03  ps_ind_04_cat  \\\n",
       "0   7       0          2              2          5              1   \n",
       "1   9       0          1              1          7              0   \n",
       "2  13       0          5              4          9              1   \n",
       "3  16       0          0              1          2              0   \n",
       "4  17       0          0              2          0              1   \n",
       "\n",
       "   ps_ind_05_cat  ps_ind_06_bin  ps_ind_07_bin  ps_ind_08_bin       ...        \\\n",
       "0              0              0              1              0       ...         \n",
       "1              0              0              0              1       ...         \n",
       "2              0              0              0              1       ...         \n",
       "3              0              1              0              0       ...         \n",
       "4              0              1              0              0       ...         \n",
       "\n",
       "   ps_calc_11  ps_calc_12  ps_calc_13  ps_calc_14  ps_calc_15_bin  \\\n",
       "0           9           1           5           8               0   \n",
       "1           3           1           1           9               0   \n",
       "2           4           2           7           7               0   \n",
       "3           2           2           4           9               0   \n",
       "4           3           1           1           3               0   \n",
       "\n",
       "   ps_calc_16_bin  ps_calc_17_bin  ps_calc_18_bin  ps_calc_19_bin  \\\n",
       "0               1               1               0               0   \n",
       "1               1               1               0               1   \n",
       "2               1               1               0               1   \n",
       "3               0               0               0               0   \n",
       "4               0               0               1               1   \n",
       "\n",
       "   ps_calc_20_bin  \n",
       "0               1  \n",
       "1               0  \n",
       "2               0  \n",
       "3               0  \n",
       "4               0  \n",
       "\n",
       "[5 rows x 59 columns]"
      ]
     },
     "execution_count": 4,
     "metadata": {},
     "output_type": "execute_result"
    }
   ],
   "source": [
    "# Read csv file and take a look at it\n",
    "train = pd.read_csv('./train.csv')\n",
    "train.head(5)"
   ]
  },
  {
   "cell_type": "code",
   "execution_count": 9,
   "metadata": {},
   "outputs": [
    {
     "name": "stdout",
     "output_type": "stream",
     "text": [
      "The train dataset contains 595212 rows and 59 columns\n"
     ]
    }
   ],
   "source": [
    "# Taking a look at how many rows and columns the train dataset contains\n",
    "rows = train.shape[0]\n",
    "columns = train.shape[1]\n",
    "print(\"The train dataset contains {} rows and {} columns\".format(rows, columns))"
   ]
  },
  {
   "cell_type": "markdown",
   "metadata": {},
   "source": [
    "## 1. Data Quality Checks"
   ]
  },
  {
   "cell_type": "markdown",
   "metadata": {},
   "source": [
    "### Null or missing values check\n",
    "Let check whether there are any null values in the train dataset as follows:"
   ]
  },
  {
   "cell_type": "code",
   "execution_count": 14,
   "metadata": {},
   "outputs": [
    {
     "data": {
      "text/plain": [
       "False"
      ]
     },
     "execution_count": 14,
     "metadata": {},
     "output_type": "execute_result"
    }
   ],
   "source": [
    "# Your code here\n",
    "train.isnull().values.any()"
   ]
  },
  {
   "cell_type": "markdown",
   "metadata": {},
   "source": [
    "**Note:** Our null values check returns False but however, this does not really mean that this case has been closed as the data is also described as *\"Values of -1 indicate that the feature was missing from the observation\"*. Therefore I take it that Porto Seguro has simply conducted a blanket replacement of all null values in the data with the value of -1. Let us now inspect if there where any missing values in the data."
   ]
  },
  {
   "cell_type": "markdown",
   "metadata": {},
   "source": [
    "Here we can see that which columns contained -1 in their values so we could easily for example make a blanket replacement of all -1 with nulls first as follows:"
   ]
  },
  {
   "cell_type": "code",
   "execution_count": 17,
   "metadata": {},
   "outputs": [],
   "source": [
    "train_copy = train.copy()\n",
    "train_copy = train_copy.replace(-1, np.NaN)"
   ]
  },
  {
   "cell_type": "markdown",
   "metadata": {},
   "source": [
    "We can use \"Missingno\" to visualize missing values in the dataset."
   ]
  },
  {
   "cell_type": "code",
   "execution_count": 24,
   "metadata": {},
   "outputs": [
    {
     "ename": "SyntaxError",
     "evalue": "invalid syntax (<ipython-input-24-8e16d739ccc8>, line 4)",
     "output_type": "error",
     "traceback": [
      "\u001b[1;36m  File \u001b[1;32m\"<ipython-input-24-8e16d739ccc8>\"\u001b[1;36m, line \u001b[1;32m4\u001b[0m\n\u001b[1;33m    conda install -c conda-forge missingno\u001b[0m\n\u001b[1;37m                ^\u001b[0m\n\u001b[1;31mSyntaxError\u001b[0m\u001b[1;31m:\u001b[0m invalid syntax\n"
     ]
    }
   ],
   "source": [
    "# If you don't have \"Missingno\" package, use this command to install\n",
    "# (Linux) conda install -c conda-forge missingno\n",
    "#conda install missingno\n",
    "conda install -c conda-forge missingno\n",
    "import missingno as msno\n",
    "msno.matrix(df=train_copy.iloc[:, 2:39], figsize=(20, 14), color=(0.42, 0.1, 0.05))"
   ]
  },
  {
   "cell_type": "code",
   "execution_count": null,
   "metadata": {},
   "outputs": [],
   "source": []
  },
  {
   "cell_type": "code",
   "execution_count": 32,
   "metadata": {},
   "outputs": [
    {
     "data": {
      "text/plain": [
       "id                False\n",
       "target            False\n",
       "ps_ind_01         False\n",
       "ps_ind_02_cat      True\n",
       "ps_ind_03         False\n",
       "ps_ind_04_cat      True\n",
       "ps_ind_05_cat      True\n",
       "ps_ind_06_bin     False\n",
       "ps_ind_07_bin     False\n",
       "ps_ind_08_bin     False\n",
       "ps_ind_09_bin     False\n",
       "ps_ind_10_bin     False\n",
       "ps_ind_11_bin     False\n",
       "ps_ind_12_bin     False\n",
       "ps_ind_13_bin     False\n",
       "ps_ind_14         False\n",
       "ps_ind_15         False\n",
       "ps_ind_16_bin     False\n",
       "ps_ind_17_bin     False\n",
       "ps_ind_18_bin     False\n",
       "ps_reg_01         False\n",
       "ps_reg_02         False\n",
       "ps_reg_03          True\n",
       "ps_car_01_cat      True\n",
       "ps_car_02_cat      True\n",
       "ps_car_03_cat      True\n",
       "ps_car_04_cat     False\n",
       "ps_car_05_cat      True\n",
       "ps_car_06_cat     False\n",
       "ps_car_07_cat      True\n",
       "ps_car_08_cat     False\n",
       "ps_car_09_cat      True\n",
       "ps_car_10_cat     False\n",
       "ps_car_11_cat     False\n",
       "ps_car_11          True\n",
       "ps_car_12          True\n",
       "ps_car_13         False\n",
       "ps_car_14          True\n",
       "ps_car_15         False\n",
       "ps_calc_01        False\n",
       "ps_calc_02        False\n",
       "ps_calc_03        False\n",
       "ps_calc_04        False\n",
       "ps_calc_05        False\n",
       "ps_calc_06        False\n",
       "ps_calc_07        False\n",
       "ps_calc_08        False\n",
       "ps_calc_09        False\n",
       "ps_calc_10        False\n",
       "ps_calc_11        False\n",
       "ps_calc_12        False\n",
       "ps_calc_13        False\n",
       "ps_calc_14        False\n",
       "ps_calc_15_bin    False\n",
       "ps_calc_16_bin    False\n",
       "ps_calc_17_bin    False\n",
       "ps_calc_18_bin    False\n",
       "ps_calc_19_bin    False\n",
       "ps_calc_20_bin    False\n",
       "dtype: bool"
      ]
     },
     "execution_count": 32,
     "metadata": {},
     "output_type": "execute_result"
    }
   ],
   "source": [
    "# List null columns name\n",
    "# Hint: isnull()\n",
    "# Your code here\n",
    "train_copy.isnull().any()"
   ]
  },
  {
   "cell_type": "markdown",
   "metadata": {},
   "source": [
    "#### Target variable inspection"
   ]
  },
  {
   "cell_type": "code",
   "execution_count": 33,
   "metadata": {},
   "outputs": [
    {
     "data": {
      "text/plain": [
       "<matplotlib.axes._subplots.AxesSubplot at 0x29400017518>"
      ]
     },
     "execution_count": 33,
     "metadata": {},
     "output_type": "execute_result"
    },
    {
     "data": {
      "image/png": "[encoded data removed]",
      "text/plain": [
       "<Figure size 432x288 with 1 Axes>"
      ]
     },
     "metadata": {
      "needs_background": "light"
     },
     "output_type": "display_data"
    }
   ],
   "source": [
    "# Using countplot to represent target\n",
    "# Your code here\n",
    "sns.countplot(data = train, x = 'target')"
   ]
  },
  {
   "cell_type": "markdown",
   "metadata": {},
   "source": [
    "## 2. Feature inspection and filtering"
   ]
  },
  {
   "cell_type": "markdown",
   "metadata": {},
   "source": [
    "### Correlation plots\n",
    "As a starter, let us generate some linear correlation plots just to have a quick look at how a feature is linearly correlated to the next and perhaps start gaining some insights from here. At this juncture, I will use the seaborn statistical visualisation package to plot a heatmap of the correlation values. Conveniently, Pandas dataframes come with the corr() method inbuilt, which calculates the Pearson correlation. Also as convenient is Seaborn's way of invoking a correlation plot. Just literally the word \"heatmap\""
   ]
  },
  {
   "cell_type": "markdown",
   "metadata": {},
   "source": [
    "#### Correlation of float features"
   ]
  },
  {
   "cell_type": "code",
   "execution_count": 34,
   "metadata": {},
   "outputs": [],
   "source": [
    "train_float = train.select_dtypes(include=['float64'])\n",
    "train_int = train.select_dtypes(include=['int64'])"
   ]
  },
  {
   "cell_type": "code",
   "execution_count": 37,
   "metadata": {},
   "outputs": [
    {
     "data": {
      "image/png": "[encoded data removed]",
      "text/plain": [
       "<Figure size 1152x864 with 2 Axes>"
      ]
     },
     "metadata": {
      "needs_background": "light"
     },
     "output_type": "display_data"
    }
   ],
   "source": [
    "colormap = plt.cm.magma\n",
    "plt.figure(figsize=(16, 12))\n",
    "plt.title(\"Paerson correlation of continuous features\", y=1.05, size=15)\n",
    "sns.heatmap(train_float.corr(), linewidths=0.1, vmax=1.0, square=True,\n",
    "           cmap=colormap)\n",
    "plt.show()"
   ]
  },
  {
   "cell_type": "markdown",
   "metadata": {},
   "source": [
    "From the correlation plot, we can see that the majority of the features display zero or no correlation to one another. This is quite an interesting observation that will warrant our further investigation later down. For now, the paired features that display a positive linear correlation are listed as follows:\n",
    "\n",
    "(ps_reg_01, ps_reg_03)\n",
    "\n",
    "(ps_reg_02, ps_reg_03)\n",
    "\n",
    "(ps_car_12, ps_car_13)\n",
    "\n",
    "(ps_car_13, ps_car_15)"
   ]
  },
  {
   "cell_type": "markdown",
   "metadata": {},
   "source": [
    "### Correlation of integer features"
   ]
  },
  {
   "cell_type": "code",
   "execution_count": 38,
   "metadata": {},
   "outputs": [
    {
     "data": {
      "image/png": "[encoded data removed]",
      "text/plain": [
       "<Figure size 1152x864 with 2 Axes>"
      ]
     },
     "metadata": {
      "needs_background": "light"
     },
     "output_type": "display_data"
    }
   ],
   "source": [
    "# Your code here\n",
    "# Hint: correlation of train_int\n",
    "colormap = plt.cm.magma\n",
    "plt.figure(figsize=(16, 12))\n",
    "plt.title(\"Paerson correlation of continuous features\", y=1.05, size=25)\n",
    "sns.heatmap(train_int.corr(), linewidths=0.1, vmax=1.0, square=True,\n",
    "           cmap=colormap)\n",
    "\n",
    "plt.show()"
   ]
  },
  {
   "cell_type": "markdown",
   "metadata": {},
   "source": [
    "#### Which features have negatively correlation?\n",
    "Negatively correlated features : **Your answer here**\n",
    "which features has black square (=\"=, too small to see)\n",
    "(ps_ind_06_bin,ps_ind_07_bin)\n",
    "(ps_ind_06_bin,ps_ind_08_bin)\n",
    "(ps_ind_06_bin,ps_ind_09_bin)\n",
    "(ps_ind_07_bin,ps_ind_06_bin)\n",
    "(ps_ind_16_bin,ps_ind_18_bin)\n"
   ]
  },
  {
   "cell_type": "markdown",
   "metadata": {},
   "source": [
    "### Binary features inspection\n",
    "Another aspect of the data that we may want to inspect would be the coulmns that only contain binary valeus, i.e where values take on only either of the two values 1 or 0. Proceeding, we store all columns that contain these binary values and then generate a vertical plotly bar plot of these binary values as follows:"
   ]
  },
  {
   "cell_type": "code",
   "execution_count": 39,
   "metadata": {},
   "outputs": [],
   "source": [
    "bin_col = list(filter(lambda x: '_bin' in x, train.columns))\n",
    "bin_value_counts = train[bin_col].apply(pd.value_counts)"
   ]
  },
  {
   "cell_type": "code",
   "execution_count": 71,
   "metadata": {},
   "outputs": [
    {
     "data": {
      "text/html": [
       "<div>\n",
       "<style scoped>\n",
       "    .dataframe tbody tr th:only-of-type {\n",
       "        vertical-align: middle;\n",
       "    }\n",
       "\n",
       "    .dataframe tbody tr th {\n",
       "        vertical-align: top;\n",
       "    }\n",
       "\n",
       "    .dataframe thead th {\n",
       "        text-align: right;\n",
       "    }\n",
       "</style>\n",
       "<table border=\"1\" class=\"dataframe\">\n",
       "  <thead>\n",
       "    <tr style=\"text-align: right;\">\n",
       "      <th></th>\n",
       "      <th>0</th>\n",
       "      <th>1</th>\n",
       "    </tr>\n",
       "  </thead>\n",
       "  <tbody>\n",
       "    <tr>\n",
       "      <th>ps_ind_06_bin</th>\n",
       "      <td>360852</td>\n",
       "      <td>234360</td>\n",
       "    </tr>\n",
       "    <tr>\n",
       "      <th>ps_ind_07_bin</th>\n",
       "      <td>442223</td>\n",
       "      <td>152989</td>\n",
       "    </tr>\n",
       "    <tr>\n",
       "      <th>ps_ind_08_bin</th>\n",
       "      <td>497644</td>\n",
       "      <td>97568</td>\n",
       "    </tr>\n",
       "    <tr>\n",
       "      <th>ps_ind_09_bin</th>\n",
       "      <td>484917</td>\n",
       "      <td>110295</td>\n",
       "    </tr>\n",
       "    <tr>\n",
       "      <th>ps_ind_10_bin</th>\n",
       "      <td>594990</td>\n",
       "      <td>222</td>\n",
       "    </tr>\n",
       "    <tr>\n",
       "      <th>ps_ind_11_bin</th>\n",
       "      <td>594205</td>\n",
       "      <td>1007</td>\n",
       "    </tr>\n",
       "    <tr>\n",
       "      <th>ps_ind_12_bin</th>\n",
       "      <td>589594</td>\n",
       "      <td>5618</td>\n",
       "    </tr>\n",
       "    <tr>\n",
       "      <th>ps_ind_13_bin</th>\n",
       "      <td>594648</td>\n",
       "      <td>564</td>\n",
       "    </tr>\n",
       "    <tr>\n",
       "      <th>ps_ind_16_bin</th>\n",
       "      <td>201882</td>\n",
       "      <td>393330</td>\n",
       "    </tr>\n",
       "    <tr>\n",
       "      <th>ps_ind_17_bin</th>\n",
       "      <td>523143</td>\n",
       "      <td>72069</td>\n",
       "    </tr>\n",
       "    <tr>\n",
       "      <th>ps_ind_18_bin</th>\n",
       "      <td>503879</td>\n",
       "      <td>91333</td>\n",
       "    </tr>\n",
       "    <tr>\n",
       "      <th>ps_calc_15_bin</th>\n",
       "      <td>522342</td>\n",
       "      <td>72870</td>\n",
       "    </tr>\n",
       "    <tr>\n",
       "      <th>ps_calc_16_bin</th>\n",
       "      <td>221514</td>\n",
       "      <td>373698</td>\n",
       "    </tr>\n",
       "    <tr>\n",
       "      <th>ps_calc_17_bin</th>\n",
       "      <td>265356</td>\n",
       "      <td>329856</td>\n",
       "    </tr>\n",
       "    <tr>\n",
       "      <th>ps_calc_18_bin</th>\n",
       "      <td>424278</td>\n",
       "      <td>170934</td>\n",
       "    </tr>\n",
       "    <tr>\n",
       "      <th>ps_calc_19_bin</th>\n",
       "      <td>387469</td>\n",
       "      <td>207743</td>\n",
       "    </tr>\n",
       "    <tr>\n",
       "      <th>ps_calc_20_bin</th>\n",
       "      <td>503955</td>\n",
       "      <td>91257</td>\n",
       "    </tr>\n",
       "  </tbody>\n",
       "</table>\n",
       "</div>"
      ],
      "text/plain": [
       "                     0       1\n",
       "ps_ind_06_bin   360852  234360\n",
       "ps_ind_07_bin   442223  152989\n",
       "ps_ind_08_bin   497644   97568\n",
       "ps_ind_09_bin   484917  110295\n",
       "ps_ind_10_bin   594990     222\n",
       "ps_ind_11_bin   594205    1007\n",
       "ps_ind_12_bin   589594    5618\n",
       "ps_ind_13_bin   594648     564\n",
       "ps_ind_16_bin   201882  393330\n",
       "ps_ind_17_bin   523143   72069\n",
       "ps_ind_18_bin   503879   91333\n",
       "ps_calc_15_bin  522342   72870\n",
       "ps_calc_16_bin  221514  373698\n",
       "ps_calc_17_bin  265356  329856\n",
       "ps_calc_18_bin  424278  170934\n",
       "ps_calc_19_bin  387469  207743\n",
       "ps_calc_20_bin  503955   91257"
      ]
     },
     "execution_count": 71,
     "metadata": {},
     "output_type": "execute_result"
    }
   ],
   "source": [
    "bin_value_counts.T"
   ]
  },
  {
   "cell_type": "code",
   "execution_count": 72,
   "metadata": {},
   "outputs": [
    {
     "data": {
      "text/plain": [
       "<matplotlib.axes._subplots.AxesSubplot at 0x294020a8a90>"
      ]
     },
     "execution_count": 72,
     "metadata": {},
     "output_type": "execute_result"
    },
    {
     "data": {
      "image/png": "[encoded data removed]",
      "text/plain": [
       "<Figure size 432x288 with 1 Axes>"
      ]
     },
     "metadata": {
      "needs_background": "light"
     },
     "output_type": "display_data"
    }
   ],
   "source": [
    "# hint pandas plot.bar with stacked=True\n",
    "# Your code here\n",
    "bin_value_counts.T.plot.bar(stacked=True)"
   ]
  },
  {
   "cell_type": "markdown",
   "metadata": {},
   "source": [
    "Those columns ps_ind_10_bin, ps_ind_11_bin, ps_ind_12_bin, ps_ind_13_bin which are completely dominated by zeros. They do not contain much information."
   ]
  },
  {
   "cell_type": "markdown",
   "metadata": {},
   "source": [
    "## 3. Preprocess Data"
   ]
  },
  {
   "cell_type": "code",
   "execution_count": 76,
   "metadata": {},
   "outputs": [],
   "source": [
    "# Import train_test_split \n",
    "# Your code here\n",
    "from sklearn.model_selection import train_test_split\n"
   ]
  },
  {
   "cell_type": "code",
   "execution_count": 77,
   "metadata": {},
   "outputs": [],
   "source": [
    "# Define X (features), y (target)\n",
    "X = train.drop(columns='target')\n",
    "y = train['target']"
   ]
  },
  {
   "cell_type": "code",
   "execution_count": 78,
   "metadata": {},
   "outputs": [],
   "source": [
    "# Split data into train and test set\n",
    "X_train, X_test, y_train, y_test = train_test_split(X, y, test_size=0.3, random_state=101)"
   ]
  },
  {
   "cell_type": "markdown",
   "metadata": {},
   "source": [
    "#### Randomly Under-Sampling the Training Dataset¶\n",
    "**Note:** Validate ratio between 2 class after Under-Sampling"
   ]
  },
  {
   "cell_type": "code",
   "execution_count": 81,
   "metadata": {},
   "outputs": [
    {
     "name": "stdout",
     "output_type": "stream",
     "text": [
      "Percentage of safe driver:  0.5\n",
      "Percentage of non-safe driver:  0.5\n",
      "Total number of drivers in resampled data:  30362\n"
     ]
    },
    {
     "data": {
      "image/png": "[encoded data removed]",
      "text/plain": [
       "<Figure size 504x504 with 1 Axes>"
      ]
     },
     "metadata": {
      "needs_background": "light"
     },
     "output_type": "display_data"
    }
   ],
   "source": [
    "# Your code here\n",
    "#0 = safe 1 = non_safe\n",
    "\n",
    "training_data = pd.concat ([X_train,y_train],axis = 1)\n",
    "training_data['target'].value_counts()\n",
    "safety_data = training_data[training_data['target'] == 0]\n",
    "non_safety_data = training_data[training_data['target'] == 1]\n",
    "# Number of safety_data, no_safety_data\n",
    "number_records_safety = safety_data.shape[0]\n",
    "number_records_non_safety = non_safety_data.shape[0]\n",
    "\n",
    "under_sample_safety = safety_data.sample(number_records_non_safety)\n",
    "under_sample_data = pd.concat([under_sample_safety, non_safety_data], axis=0)\n",
    "\n",
    "# Showing ratio\n",
    "print(\"Percentage of safe driver: \", under_sample_safety.shape[0] / under_sample_data.shape[0])\n",
    "print(\"Percentage of non-safe driver: \", non_safety_data.shape[0] / under_sample_data.shape[0])\n",
    "print(\"Total number of drivers in resampled data: \", under_sample_data.shape[0])\n",
    "\n",
    "# Assigning X,y for Under-sampled Data\n",
    "X_train_undersample = under_sample_data.drop(columns=['target'])\n",
    "y_train_undersample = under_sample_data['target']\n",
    "\n",
    "# Plot countplot\n",
    "plt.figure(figsize=(7,7))\n",
    "# Make a count plot to show ratio between 2 class on \"target\" column\n",
    "sns.countplot(data=under_sample_data, x='target')\n",
    "plt.show()\n",
    "\n"
   ]
  },
  {
   "cell_type": "markdown",
   "metadata": {},
   "source": [
    "#### Randomly Over-Sampling the Training Dataset\n",
    "**Note:** Validate ratio between 2 class after Over-Sampling"
   ]
  },
  {
   "cell_type": "code",
   "execution_count": 82,
   "metadata": {},
   "outputs": [
    {
     "name": "stdout",
     "output_type": "stream",
     "text": [
      "Percentage of safe driver:  0.5\n",
      "Percentage of non-safe driver:  0.5\n",
      "Total number of drivers in resampled data:  802934\n"
     ]
    },
    {
     "data": {
      "image/png": "[encoded data removed]",
      "text/plain": [
       "<Figure size 504x504 with 1 Axes>"
      ]
     },
     "metadata": {
      "needs_background": "light"
     },
     "output_type": "display_data"
    }
   ],
   "source": [
    "# Your code here\n",
    "#0 = safe 1 = non_safe\n",
    "\n",
    "training_data = pd.concat ([X_train,y_train],axis = 1)\n",
    "training_data['target'].value_counts()\n",
    "safety_data = training_data[training_data['target'] == 0]\n",
    "non_safety_data = training_data[training_data['target'] == 1]\n",
    "# Number of safety_data, no_safety_data\n",
    "number_records_safety = safety_data.shape[0]\n",
    "number_records_non_safety = non_safety_data.shape[0]\n",
    "\n",
    "over_sample_non_safety = non_safety_data.sample(replace = True, n=number_records_safety)\n",
    "\n",
    "over_sample_data = pd.concat([over_sample_non_safety, safety_data], axis=0)\n",
    "\n",
    "# Showing ratio\n",
    "print(\"Percentage of safe driver: \", safety_data.shape[0] / over_sample_data.shape[0])\n",
    "print(\"Percentage of non-safe driver: \", over_sample_non_safety.shape[0] / over_sample_data.shape[0])\n",
    "print(\"Total number of drivers in resampled data: \", over_sample_data.shape[0])\n",
    "\n",
    "# Assigning X,y for Over-sampled Data\n",
    "X_train_oversample = over_sample_data.drop(columns=['target'])\n",
    "y_train_oversample = over_sample_data['target']\n",
    "\n",
    "# Plot countplot\n",
    "plt.figure(figsize=(7,7))\n",
    "# Make a count plot to show ratio between 2 class on \"target\" column\n",
    "sns.countplot(data=over_sample_data, x='target')\n",
    "plt.show()\n"
   ]
  },
  {
   "cell_type": "markdown",
   "metadata": {},
   "source": [
    "## 4. Modeling"
   ]
  },
  {
   "cell_type": "code",
   "execution_count": 83,
   "metadata": {},
   "outputs": [],
   "source": [
    "# Spot check with LogisticRegression, DecisionTreeClassifier, RandomForestClassifier, BernoulliNB, GaussianNB\n",
    "# Import libraries and and create model\n",
    "# Your code here\n",
    "from sklearn.linear_model import LogisticRegression\n",
    "from sklearn.tree import DecisionTreeClassifier\n",
    "from sklearn.ensemble import RandomForestClassifier\n",
    "from sklearn.naive_bayes import GaussianNB\n",
    "from sklearn.naive_bayes import BernoulliNB\n",
    "\n",
    "lr = LogisticRegression()\n",
    "dtc = DecisionTreeClassifier()\n",
    "rfc = RandomForestClassifier()\n",
    "bnb = BernoulliNB()\n",
    "gnb = GaussianNB()\n",
    "\n",
    "models = [lr, dtc, rfc, gnb, bnb]\n",
    "models_name = [\"Logistic Regression\", \"Decision Tree\", \"Random Forest\", \"Bernoulli NB\", \"Gaussian NB\"]"
   ]
  },
  {
   "cell_type": "markdown",
   "metadata": {},
   "source": [
    "## 5. Evaluation Metrics"
   ]
  },
  {
   "cell_type": "code",
   "execution_count": 112,
   "metadata": {},
   "outputs": [],
   "source": [
    "# Import confusion_matrix, classification_report\n",
    "# Your code here\n",
    "from sklearn.metrics import classification_report, confusion_matrix\n",
    "from sklearn.metrics import recall_score, precision_score\n",
    "\n",
    "# We create an utils function, that take a trained model as argument and print out confusion matrix\n",
    "# classification report base on X and y\n",
    "def evaluate_model(estimator, X, y,description):\n",
    "    prediction = estimator.predict(X)\n",
    "    np.set_printoptions(precision=2)\n",
    "    model_name = type(estimator).__name__\n",
    "    return {'name': model_name, \n",
    "            'recall': recall_score(y, prediction),\n",
    "            'precision': precision_score(y, prediction),\n",
    "           'description': description}\n"
   ]
  },
  {
   "cell_type": "markdown",
   "metadata": {},
   "source": [
    "### Evaluate with Origin dataset"
   ]
  },
  {
   "cell_type": "code",
   "execution_count": 113,
   "metadata": {},
   "outputs": [
    {
     "name": "stdout",
     "output_type": "stream",
     "text": [
      "Model: Logistic Regression\n",
      "=======================================\n",
      "Model: Decision Tree\n",
      "=======================================\n",
      "Model: Random Forest\n",
      "=======================================\n",
      "Model: Bernoulli NB\n",
      "=======================================\n",
      "Model: Gaussian NB\n",
      "=======================================\n"
     ]
    }
   ],
   "source": [
    "scores_origin = []\n",
    "for idx, model in enumerate(models):\n",
    "    print(\"Model: {}\".format(models_name[idx]))\n",
    "    # Your code here\n",
    "    # Fit your model with Origin dataset\n",
    "    model.fit(X_train, y_train)\n",
    "    \n",
    "    # Evaluate model with X_test, y_test\n",
    "    scores_origin.append(evaluate_model(model, X_test, y_test,'origin'))\n",
    "    print(\"=======================================\")"
   ]
  },
  {
   "cell_type": "markdown",
   "metadata": {},
   "source": [
    "### Evaluate with *Undersampled* dataset"
   ]
  },
  {
   "cell_type": "code",
   "execution_count": 114,
   "metadata": {},
   "outputs": [
    {
     "name": "stdout",
     "output_type": "stream",
     "text": [
      "Model: Logistic Regression\n",
      "=======================================\n",
      "Model: Decision Tree\n",
      "=======================================\n",
      "Model: Random Forest\n",
      "=======================================\n",
      "Model: Bernoulli NB\n",
      "=======================================\n",
      "Model: Gaussian NB\n",
      "=======================================\n"
     ]
    }
   ],
   "source": [
    "scores_under = []\n",
    "for idx, model in enumerate(models):\n",
    "    print(\"Model: {}\".format(models_name[idx]))\n",
    "    # Your code here\n",
    "    # Fit your model with Undersampled dataset\n",
    "    model.fit(X_train_undersample, y_train_undersample)\n",
    "    # Evaluate model with X_test, y_test\n",
    "    scores_under.append(evaluate_model(model, X_test, y_test,'under'))\n",
    "    print(\"=======================================\")"
   ]
  },
  {
   "cell_type": "code",
   "execution_count": 98,
   "metadata": {},
   "outputs": [
    {
     "data": {
      "text/plain": [
       "list"
      ]
     },
     "execution_count": 98,
     "metadata": {},
     "output_type": "execute_result"
    }
   ],
   "source": []
  },
  {
   "cell_type": "markdown",
   "metadata": {},
   "source": [
    "### Evaluate with *Oversampled* dataset"
   ]
  },
  {
   "cell_type": "code",
   "execution_count": 122,
   "metadata": {},
   "outputs": [
    {
     "name": "stdout",
     "output_type": "stream",
     "text": [
      "Model: Logistic Regression\n",
      "=======================================\n",
      "Model: Decision Tree\n",
      "=======================================\n",
      "Model: Random Forest\n",
      "=======================================\n",
      "Model: Bernoulli NB\n",
      "=======================================\n",
      "Model: Gaussian NB\n",
      "=======================================\n"
     ]
    }
   ],
   "source": [
    "scores_over = []\n",
    "for idx, model in enumerate(models):\n",
    "    print(\"Model: {}\".format(models_name[idx]))\n",
    "    # Your code here\n",
    "    # Fit your model with Oversampled dataset\n",
    "    model.fit(X_train_oversample, y_train_oversample)\n",
    "    \n",
    "    # Evaluate model with X_test, y_test\n",
    "    scores_over.append(evaluate_model(model, X_test, y_test,'oversample'))\n",
    "    print(\"=======================================\")"
   ]
  },
  {
   "cell_type": "markdown",
   "metadata": {},
   "source": [
    "### Conclusion"
   ]
  },
  {
   "cell_type": "markdown",
   "metadata": {},
   "source": [
    "Which model has lowest/highest accuracy?\n",
    "Which model has lowest/highest recall?\n",
    "Which model has lowest/highest f1?"
   ]
  },
  {
   "cell_type": "code",
   "execution_count": 123,
   "metadata": {},
   "outputs": [
    {
     "data": {
      "text/html": [
       "<div>\n",
       "<style scoped>\n",
       "    .dataframe tbody tr th:only-of-type {\n",
       "        vertical-align: middle;\n",
       "    }\n",
       "\n",
       "    .dataframe tbody tr th {\n",
       "        vertical-align: top;\n",
       "    }\n",
       "\n",
       "    .dataframe thead th {\n",
       "        text-align: right;\n",
       "    }\n",
       "</style>\n",
       "<table border=\"1\" class=\"dataframe\">\n",
       "  <thead>\n",
       "    <tr style=\"text-align: right;\">\n",
       "      <th></th>\n",
       "      <th>description</th>\n",
       "      <th>name</th>\n",
       "      <th>precision</th>\n",
       "      <th>recall</th>\n",
       "    </tr>\n",
       "  </thead>\n",
       "  <tbody>\n",
       "    <tr>\n",
       "      <th>0</th>\n",
       "      <td>origin</td>\n",
       "      <td>LogisticRegression</td>\n",
       "      <td>0.000000</td>\n",
       "      <td>0.000000</td>\n",
       "    </tr>\n",
       "    <tr>\n",
       "      <th>1</th>\n",
       "      <td>origin</td>\n",
       "      <td>DecisionTreeClassifier</td>\n",
       "      <td>0.046942</td>\n",
       "      <td>0.063872</td>\n",
       "    </tr>\n",
       "    <tr>\n",
       "      <th>2</th>\n",
       "      <td>origin</td>\n",
       "      <td>RandomForestClassifier</td>\n",
       "      <td>0.416667</td>\n",
       "      <td>0.000768</td>\n",
       "    </tr>\n",
       "    <tr>\n",
       "      <th>3</th>\n",
       "      <td>origin</td>\n",
       "      <td>GaussianNB</td>\n",
       "      <td>0.000000</td>\n",
       "      <td>0.000000</td>\n",
       "    </tr>\n",
       "    <tr>\n",
       "      <th>4</th>\n",
       "      <td>origin</td>\n",
       "      <td>BernoulliNB</td>\n",
       "      <td>0.343750</td>\n",
       "      <td>0.001689</td>\n",
       "    </tr>\n",
       "  </tbody>\n",
       "</table>\n",
       "</div>"
      ],
      "text/plain": [
       "  description                    name  precision    recall\n",
       "0      origin      LogisticRegression   0.000000  0.000000\n",
       "1      origin  DecisionTreeClassifier   0.046942  0.063872\n",
       "2      origin  RandomForestClassifier   0.416667  0.000768\n",
       "3      origin              GaussianNB   0.000000  0.000000\n",
       "4      origin             BernoulliNB   0.343750  0.001689"
      ]
     },
     "execution_count": 123,
     "metadata": {},
     "output_type": "execute_result"
    }
   ],
   "source": [
    "df_origin = pd.DataFrame(scores_origin)\n",
    "df_under = pd.DataFrame(scores_under)\n",
    "df_over  = pd.DataFrame(scores_over)\n",
    "\n",
    "df_all = pd.concat([df_origin, df_under, df_over])\n",
    "df_all.head()"
   ]
  },
  {
   "cell_type": "code",
   "execution_count": 124,
   "metadata": {},
   "outputs": [
    {
     "data": {
      "image/png": "[encoded data removed]",
      "text/plain": [
       "<Figure size 576x288 with 1 Axes>"
      ]
     },
     "metadata": {
      "needs_background": "light"
     },
     "output_type": "display_data"
    },
    {
     "data": {
      "image/png": "[encoded data removed]",
      "text/plain": [
       "<Figure size 576x288 with 1 Axes>"
      ]
     },
     "metadata": {
      "needs_background": "light"
     },
     "output_type": "display_data"
    },
    {
     "data": {
      "image/png": "[encoded data removed]",
      "text/plain": [
       "<Figure size 576x288 with 1 Axes>"
      ]
     },
     "metadata": {
      "needs_background": "light"
     },
     "output_type": "display_data"
    }
   ],
   "source": [
    "df_all.sort_values(['recall'], inplace=True)\n",
    "for label, df in df_all.groupby('description'):\n",
    "    df.plot(x='name', kind='barh', title=label, figsize=(8, 4), xlim=(0, 1))"
   ]
  },
  {
   "cell_type": "code",
   "execution_count": null,
   "metadata": {},
   "outputs": [],
   "source": []
  },
  {
   "cell_type": "markdown",
   "metadata": {},
   "source": [
    "\n",
    "## 6. GridsearchCV"
   ]
  },
  {
   "cell_type": "code",
   "execution_count": null,
   "metadata": {},
   "outputs": [],
   "source": [
    "# Using gridsearchcv, random forest model and this param grid to find the best combination of parameters \n",
    "# Hint: example\n",
    "# https://stackoverflow.com/questions/30102973/how-to-get-best-estimator-on-gridsearchcv-random-forest-classifier-scikit\n",
    "from sklearn.model_selection import GridSearchCV\n",
    "\n",
    "model = RandomForestClassifier()\n",
    "param_grid = {\n",
    "    'bootstrap': [True],\n",
    "    'max_depth': [80, 90, 100, 110],\n",
    "    'max_features': [2, 3],\n",
    "    'min_samples_leaf': [3, 4, 5],\n",
    "    'min_samples_split': [8, 10, 12],\n",
    "    'n_estimators': [100, 200, 300, 1000]\n",
    "}\n",
    "\n",
    "gridcv = GridSearchCV(model, param_grid=param_grid, n_jobs=4, verbose=6)\n",
    "gridcv.fit(X, y)\n"
   ]
  },
  {
   "cell_type": "markdown",
   "metadata": {},
   "source": [
    "#### which is the best combination of parameter"
   ]
  },
  {
   "cell_type": "code",
   "execution_count": null,
   "metadata": {},
   "outputs": [],
   "source": [
    "# Your code here\n",
    "print(gridcv.best_params_)"
   ]
  },
  {
   "cell_type": "markdown",
   "metadata": {},
   "source": [
    "# Done! Great Job."
   ]
  }
 ],
 "metadata": {
  "kernelspec": {
   "display_name": "Python 3",
   "language": "python",
   "name": "python3"
  },
  "language_info": {
   "codemirror_mode": {
    "name": "ipython",
    "version": 3
   },
   "file_extension": ".py",
   "mimetype": "text/x-python",
   "name": "python",
   "nbconvert_exporter": "python",
   "pygments_lexer": "ipython3",
   "version": "3.7.1"
  }
 },
 "nbformat": 4,
 "nbformat_minor": 2
}
